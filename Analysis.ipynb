{
  "cells": [
    {
      "cell_type": "markdown",
      "source": [
        "# Load libraries and data"
      ],
      "metadata": {
        "id": "ZWTXeEGb97CW"
      }
    },
    {
      "cell_type": "code",
      "source": [
        "!pip install whit-phys-util 1>/dev/null"
      ],
      "metadata": {
        "id": "0b2C5iZv97y3"
      },
      "execution_count": null,
      "outputs": []
    },
    {
      "cell_type": "code",
      "execution_count": null,
      "source": [
        "import numpy as np\n",
        "import pandas as pd\n",
        "import matplotlib.pyplot as plt\n",
        "import whit_phys_util as buc\n",
        "from string import ascii_uppercase\n",
        "import scipy.constants as sciConst"
      ],
      "outputs": [],
      "metadata": {
        "id": "rpIwRtNw97CZ"
      }
    },
    {
      "cell_type": "markdown",
      "source": [
        "# Connect to GitHub"
      ],
      "metadata": {
        "id": "KZUJ_uoA97Ca"
      }
    },
    {
      "cell_type": "code",
      "execution_count": null,
      "source": [
        "repo = buc.local_repository(\"fix me\")"
      ],
      "outputs": [],
      "metadata": {
        "id": "J2ssBtS297Ca"
      }
    }
  ],
  "metadata": {
    "orig_nbformat": 4,
    "language_info": {
      "name": "python"
    },
    "colab": {
      "provenance": []
    }
  },
  "nbformat": 4,
  "nbformat_minor": 0
}
